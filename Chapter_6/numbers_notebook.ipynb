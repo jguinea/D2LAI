{
 "metadata": {
  "language_info": {
   "codemirror_mode": {
    "name": "ipython",
    "version": 3
   },
   "file_extension": ".py",
   "mimetype": "text/x-python",
   "name": "python",
   "nbconvert_exporter": "python",
   "pygments_lexer": "ipython3",
   "version": "3.8.5"
  },
  "orig_nbformat": 2,
  "kernelspec": {
   "name": "python385jvsc74a57bd0b3ba2566441a7c06988d0923437866b63cedc61552a5af99d1f4fb67d367b25f",
   "display_name": "Python 3.8.5 64-bit (conda)"
  }
 },
 "nbformat": 4,
 "nbformat_minor": 2,
 "cells": [
  {
   "cell_type": "code",
   "execution_count": 1,
   "metadata": {},
   "outputs": [],
   "source": [
    "import torch\n",
    "import torchvision\n",
    "import matplotlib.pyplot as plt\n",
    "import torch.nn as nn\n",
    "import torch.nn.functional as F"
   ]
  },
  {
   "cell_type": "code",
   "execution_count": 3,
   "metadata": {},
   "outputs": [],
   "source": [
    "training_data = torchvision.datasets.MNIST('/files/', train=True, download=True, transform=torchvision.transforms.ToTensor())\n",
    "test_data = torchvision.datasets.MNIST('/files/', train=False, download=True, transform=torchvision.transforms.ToTensor())"
   ]
  },
  {
   "cell_type": "code",
   "execution_count": 6,
   "metadata": {},
   "outputs": [],
   "source": [
    "n_epochs = 10\n",
    "batch_size_train = 64\n",
    "batch_size_test = 1000\n",
    "learning_rate = 0.9\n",
    "log_interval = 100"
   ]
  },
  {
   "cell_type": "code",
   "execution_count": 7,
   "metadata": {},
   "outputs": [],
   "source": [
    "train_loader = torch.utils.data.DataLoader(training_data, batch_size=batch_size_train, shuffle=True)\n",
    "test_loader = torch.utils.data.DataLoader(test_data, batch_size=batch_size_test, shuffle=True)"
   ]
  },
  {
   "cell_type": "code",
   "execution_count": 8,
   "metadata": {},
   "outputs": [],
   "source": [
    "examples = enumerate(test_loader)\n",
    "batch_idx, (example_data, example_targets) = next(examples)\n",
    "image_dimensions = example_data[0][0].size()"
   ]
  },
  {
   "cell_type": "code",
   "execution_count": 9,
   "metadata": {},
   "outputs": [],
   "source": [
    "class Net(nn.Module):\n",
    "    def __init__(self):\n",
    "        super(Net, self).__init__()\n",
    "        self.conv1 = nn.Conv2d(1, 6, kernel_size=5, padding=2)\n",
    "        self.sigmoid1 = nn.Sigmoid()\n",
    "        self.avg1 = nn.AvgPool2d(kernel_size=2, stride=2)\n",
    "        self.conv2 = nn.Conv2d(6, 16, kernel_size=5)\n",
    "        self.sigmoid2 = nn.Sigmoid()\n",
    "        self.avg2 = nn.AvgPool2d(kernel_size=2, stride=2)\n",
    "        self.flatten = nn.Flatten()\n",
    "        self.fc1 = nn.Linear(16*5*5, 120)\n",
    "        self.sigmoid3 = nn.Sigmoid()\n",
    "        self.fc2 = nn.Linear(120, 84)\n",
    "        self.sigmoid4 = nn.Sigmoid()\n",
    "        self.fc3 = nn.Linear(84, 10)\n",
    "    def forward(self, x):\n",
    "        x = self.conv1(x)\n",
    "        x = self.sigmoid1(x)\n",
    "        x = self.avg1(x)\n",
    "        x = self.conv2(x)\n",
    "        x = self.sigmoid2(x)\n",
    "        x = self.avg2(x)\n",
    "        x = self.flatten(x)\n",
    "        x = self.fc1(x)\n",
    "        x = self.sigmoid3(x)\n",
    "        x = self.fc2(x)\n",
    "        x = self.sigmoid4(x)\n",
    "        x = self.fc3(x)\n",
    "        return x\n"
   ]
  },
  {
   "cell_type": "code",
   "execution_count": 10,
   "metadata": {},
   "outputs": [],
   "source": [
    "net = Net()\n",
    "# net.cuda()\n",
    "loss = nn.CrossEntropyLoss()\n",
    "optimizer = torch.optim.SGD(net.parameters(), lr=learning_rate)"
   ]
  },
  {
   "cell_type": "code",
   "execution_count": 11,
   "metadata": {},
   "outputs": [],
   "source": [
    "train_losses = []\n",
    "train_counter = []\n",
    "test_losses = []"
   ]
  },
  {
   "cell_type": "code",
   "execution_count": 13,
   "metadata": {},
   "outputs": [],
   "source": [
    "def train(epoch):\n",
    "    net.train()\n",
    "    for batch_idx, (x, y) in enumerate(train_loader):\n",
    "        optimizer.zero_grad()\n",
    "        y_hat = net(x)\n",
    "        l = loss(y_hat, y)\n",
    "        l.backward()\n",
    "        optimizer.step()\n",
    "        if batch_idx % log_interval == 0:\n",
    "            print('Train Epoch: {} [{}/{} ({:.0f}%)]\\tLoss: {:.6f}'.format(\n",
    "                epoch, batch_idx * len(x), len(train_loader.dataset),\n",
    "                100. * batch_idx / len(train_loader), l.item()))\n",
    "            train_losses.append(l.item())\n",
    "            train_counter.append(\n",
    "                (batch_idx*64) + ((epoch-1)*len(train_loader.dataset)))"
   ]
  },
  {
   "cell_type": "code",
   "execution_count": 14,
   "metadata": {},
   "outputs": [],
   "source": [
    "def test():\n",
    "  net.eval()\n",
    "  test_loss = 0\n",
    "  correct = 0\n",
    "  test_lenth = 0\n",
    "  with torch.no_grad():\n",
    "    for x, y in test_loader:\n",
    "      # x = x.cuda()\n",
    "      # y = y.cuda()\n",
    "      y_hat = net(x)\n",
    "      test_loss +=  loss(y_hat, y).item()\n",
    "      test_lenth += 1\n",
    "      pred = y_hat.data.max(1, keepdim=True)[1]\n",
    "      correct += pred.eq(y.data.view_as(pred)).sum()\n",
    "  test_loss /= test_lenth\n",
    "  test_losses.append(test_loss)\n",
    "  print('\\nTest set: Avg. loss: {:.4f}, Accuracy: {}/{} ({:.0f}%)\\n'.format(\n",
    "    test_loss, correct, len(test_loader.dataset),\n",
    "    100. * correct / len(test_loader.dataset)))"
   ]
  },
  {
   "cell_type": "code",
   "execution_count": 26,
   "metadata": {},
   "outputs": [
    {
     "output_type": "stream",
     "name": "stdout",
     "text": [
      "Train Epoch: 0 [0/60000 (0%)]\tLoss: 2.329002\n",
      "Train Epoch: 0 [6400/60000 (11%)]\tLoss: 2.286155\n",
      "Train Epoch: 0 [12800/60000 (21%)]\tLoss: 2.280570\n",
      "Train Epoch: 0 [19200/60000 (32%)]\tLoss: 2.297360\n",
      "Train Epoch: 0 [25600/60000 (43%)]\tLoss: 2.307328\n",
      "Train Epoch: 0 [32000/60000 (53%)]\tLoss: 2.292676\n",
      "Train Epoch: 0 [38400/60000 (64%)]\tLoss: 2.301775\n",
      "Train Epoch: 0 [44800/60000 (75%)]\tLoss: 2.311617\n",
      "Train Epoch: 0 [51200/60000 (85%)]\tLoss: 2.300071\n",
      "Train Epoch: 0 [57600/60000 (96%)]\tLoss: 2.294806\n",
      "\n",
      "Test set: Avg. loss: 0.0023, Accuracy: 1135/10000 (11%)\n",
      "\n",
      "Train Epoch: 1 [0/60000 (0%)]\tLoss: 2.300382\n",
      "Train Epoch: 1 [6400/60000 (11%)]\tLoss: 2.293246\n",
      "Train Epoch: 1 [12800/60000 (21%)]\tLoss: 2.304957\n",
      "Train Epoch: 1 [19200/60000 (32%)]\tLoss: 2.301935\n",
      "Train Epoch: 1 [25600/60000 (43%)]\tLoss: 2.307050\n",
      "Train Epoch: 1 [32000/60000 (53%)]\tLoss: 2.303960\n",
      "Train Epoch: 1 [38400/60000 (64%)]\tLoss: 2.288554\n",
      "Train Epoch: 1 [44800/60000 (75%)]\tLoss: 2.301531\n",
      "Train Epoch: 1 [51200/60000 (85%)]\tLoss: 2.291297\n",
      "Train Epoch: 1 [57600/60000 (96%)]\tLoss: 2.297281\n",
      "\n",
      "Test set: Avg. loss: 0.0023, Accuracy: 1135/10000 (11%)\n",
      "\n",
      "Train Epoch: 2 [0/60000 (0%)]\tLoss: 2.301373\n",
      "Train Epoch: 2 [6400/60000 (11%)]\tLoss: 2.298300\n",
      "Train Epoch: 2 [12800/60000 (21%)]\tLoss: 2.309619\n",
      "Train Epoch: 2 [19200/60000 (32%)]\tLoss: 2.292937\n",
      "Train Epoch: 2 [25600/60000 (43%)]\tLoss: 2.305745\n",
      "Train Epoch: 2 [32000/60000 (53%)]\tLoss: 2.298728\n",
      "Train Epoch: 2 [38400/60000 (64%)]\tLoss: 2.313837\n",
      "Train Epoch: 2 [44800/60000 (75%)]\tLoss: 2.310206\n",
      "Train Epoch: 2 [51200/60000 (85%)]\tLoss: 2.297666\n",
      "Train Epoch: 2 [57600/60000 (96%)]\tLoss: 2.293176\n",
      "\n",
      "Test set: Avg. loss: 0.0023, Accuracy: 1028/10000 (10%)\n",
      "\n"
     ]
    }
   ],
   "source": [
    "for epoch in range(0, n_epochs):\n",
    "  train(epoch)\n",
    "  test()"
   ]
  }
 ]
}
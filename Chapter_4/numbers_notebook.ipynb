{
 "metadata": {
  "language_info": {
   "codemirror_mode": {
    "name": "ipython",
    "version": 3
   },
   "file_extension": ".py",
   "mimetype": "text/x-python",
   "name": "python",
   "nbconvert_exporter": "python",
   "pygments_lexer": "ipython3",
   "version": "3.7.10"
  },
  "orig_nbformat": 2,
  "kernelspec": {
   "name": "python3710jvsc74a57bd018d89468f630d84cfb293f2e4c8329e0de4c70517685d9cd965bbfe72f2b845f",
   "display_name": "Python 3.7.10 64-bit ('vg': conda)"
  }
 },
 "nbformat": 4,
 "nbformat_minor": 2,
 "cells": [
  {
   "cell_type": "code",
   "execution_count": 1,
   "metadata": {},
   "outputs": [],
   "source": [
    "import torch\n",
    "import torchvision\n",
    "import matplotlib.pyplot as plt\n",
    "import torch.nn as nn"
   ]
  },
  {
   "cell_type": "code",
   "execution_count": 2,
   "metadata": {},
   "outputs": [],
   "source": [
    "n_epochs = 3\n",
    "batch_size_train = 64\n",
    "batch_size_test = 1000\n",
    "learning_rate = 0.01\n",
    "log_interval = 100"
   ]
  },
  {
   "cell_type": "code",
   "execution_count": 3,
   "metadata": {},
   "outputs": [],
   "source": [
    "train_loader = torch.utils.data.DataLoader(\n",
    "  torchvision.datasets.MNIST('/files/', train=True, download=True, transform=torchvision.transforms.ToTensor()),\n",
    "  batch_size=batch_size_train, shuffle=True)\n",
    "test_loader = torch.utils.data.DataLoader(\n",
    "  torchvision.datasets.MNIST('/files/', train=False, download=True, transform=torchvision.transforms.ToTensor()), \n",
    "  batch_size=batch_size_test, shuffle=True)"
   ]
  },
  {
   "cell_type": "code",
   "execution_count": 4,
   "metadata": {},
   "outputs": [
    {
     "output_type": "display_data",
     "data": {
      "text/plain": "<Figure size 432x288 with 6 Axes>",
      "image/svg+xml": "<?xml version=\"1.0\" encoding=\"utf-8\" standalone=\"no\"?>\r\n<!DOCTYPE svg PUBLIC \"-//W3C//DTD SVG 1.1//EN\"\r\n  \"http://www.w3.org/Graphics/SVG/1.1/DTD/svg11.dtd\">\r\n<svg height=\"266.418125pt\" version=\"1.1\" viewBox=\"0 0 404.935938 266.418125\" width=\"404.935938pt\" xmlns=\"http://www.w3.org/2000/svg\" xmlns:xlink=\"http://www.w3.org/1999/xlink\">\r\n <metadata>\r\n  <rdf:RDF xmlns:cc=\"http://creativecommons.org/ns#\" xmlns:dc=\"http://purl.org/dc/elements/1.1/\" xmlns:rdf=\"http://www.w3.org/1999/02/22-rdf-syntax-ns#\">\r\n   <cc:Work>\r\n    <dc:type rdf:resource=\"http://purl.org/dc/dcmitype/StillImage\"/>\r\n    <dc:date>2021-05-05T13:07:27.992894</dc:date>\r\n    <dc:format>image/svg+xml</dc:format>\r\n    <dc:creator>\r\n     <cc:Agent>\r\n      <dc:title>Matplotlib v3.4.1, https://matplotlib.org/</dc:title>\r\n     </cc:Agent>\r\n    </dc:creator>\r\n   </cc:Work>\r\n  </rdf:RDF>\r\n </metadata>\r\n <defs>\r\n  <style type=\"text/css\">*{stroke-linecap:butt;stroke-linejoin:round;}</style>\r\n </defs>\r\n <g id=\"figure_1\">\r\n  <g id=\"patch_1\">\r\n   <path d=\"M 0 266.418125 \r\nL 404.935938 266.418125 \r\nL 404.935938 0 \r\nL 0 0 \r\nz\r\n\" style=\"fill:none;\"/>\r\n  </g>\r\n  <g id=\"axes_1\">\r\n   <g id=\"patch_2\">\r\n    <path d=\"M 10.7 123.868125 \r\nL 112.25 123.868125 \r\nL 112.25 22.318125 \r\nL 10.7 22.318125 \r\nz\r\n\" style=\"fill:#ffffff;\"/>\r\n   </g>\r\n   <g clip-path=\"url(#pe5dfdfe62b)\">\r\n    <image height=\"28\" id=\"image68af9771c8\" style=\"image-rendering:crisp-edges;image-rendering:pixelated\" transform=\"matrix(3.642857 0 0 3.642857 10.7 21.868125)\" width=\"28\" xlink:href=\"data:image/png;base64,\r\niVBORw0KGgoAAAANSUhEUgAAABwAAAAcCAYAAAByDd+UAAABCklEQVR4nN1WbaqDQAycLe9eO57M8WTRk6U/yooP3U9LCx0IiGwyG5NJDAAcH8Tjk2RfIfx7RxCSIAkAiDGCJNZ1xbZtkHQ673dMkudgZlc+94nMzM3MJTnJol9IrL1wf7mFELr8hprGzAAAy7J0+w5lOJodMJDhney6CSXt7T+KLh3GGP89HzV2pbccmmRAMqu3gubGdWhme3BJLumkx7cSpuC59+5eFT0ArzbNsVFqdWptqGrNavVJaMkwS9hKdrxYA9k14TFI6dY9XyHZZQ1bakES8zwDeE2daZqqPkBhlprZTpyWaUJasnuQzpnapL0cSv4ZKx8geSJuWbQ5G17Ao/j938TfJ3wCIH74tI7moGgAAAAASUVORK5CYII=\"/>\r\n   </g>\r\n   <g id=\"matplotlib.axis_1\"/>\r\n   <g id=\"matplotlib.axis_2\"/>\r\n   <g id=\"patch_3\">\r\n    <path d=\"M 10.7 123.868125 \r\nL 10.7 22.318125 \r\n\" style=\"fill:none;stroke:#000000;stroke-linecap:square;stroke-linejoin:miter;stroke-width:0.8;\"/>\r\n   </g>\r\n   <g id=\"patch_4\">\r\n    <path d=\"M 112.25 123.868125 \r\nL 112.25 22.318125 \r\n\" style=\"fill:none;stroke:#000000;stroke-linecap:square;stroke-linejoin:miter;stroke-width:0.8;\"/>\r\n   </g>\r\n   <g id=\"patch_5\">\r\n    <path d=\"M 10.7 123.868125 \r\nL 112.25 123.868125 \r\n\" style=\"fill:none;stroke:#000000;stroke-linecap:square;stroke-linejoin:miter;stroke-width:0.8;\"/>\r\n   </g>\r\n   <g id=\"patch_6\">\r\n    <path d=\"M 10.7 22.318125 \r\nL 112.25 22.318125 \r\n\" style=\"fill:none;stroke:#000000;stroke-linecap:square;stroke-linejoin:miter;stroke-width:0.8;\"/>\r\n   </g>\r\n   <g id=\"text_1\">\r\n    <!-- Ground Truth: 5 -->\r\n    <g transform=\"translate(14.553125 16.318125)scale(0.12 -0.12)\">\r\n     <defs>\r\n      <path d=\"M 3809 666 \r\nL 3809 1919 \r\nL 2778 1919 \r\nL 2778 2438 \r\nL 4434 2438 \r\nL 4434 434 \r\nQ 4069 175 3628 42 \r\nQ 3188 -91 2688 -91 \r\nQ 1594 -91 976 548 \r\nQ 359 1188 359 2328 \r\nQ 359 3472 976 4111 \r\nQ 1594 4750 2688 4750 \r\nQ 3144 4750 3555 4637 \r\nQ 3966 4525 4313 4306 \r\nL 4313 3634 \r\nQ 3963 3931 3569 4081 \r\nQ 3175 4231 2741 4231 \r\nQ 1884 4231 1454 3753 \r\nQ 1025 3275 1025 2328 \r\nQ 1025 1384 1454 906 \r\nQ 1884 428 2741 428 \r\nQ 3075 428 3337 486 \r\nQ 3600 544 3809 666 \r\nz\r\n\" id=\"DejaVuSans-47\" transform=\"scale(0.015625)\"/>\r\n      <path d=\"M 2631 2963 \r\nQ 2534 3019 2420 3045 \r\nQ 2306 3072 2169 3072 \r\nQ 1681 3072 1420 2755 \r\nQ 1159 2438 1159 1844 \r\nL 1159 0 \r\nL 581 0 \r\nL 581 3500 \r\nL 1159 3500 \r\nL 1159 2956 \r\nQ 1341 3275 1631 3429 \r\nQ 1922 3584 2338 3584 \r\nQ 2397 3584 2469 3576 \r\nQ 2541 3569 2628 3553 \r\nL 2631 2963 \r\nz\r\n\" id=\"DejaVuSans-72\" transform=\"scale(0.015625)\"/>\r\n      <path d=\"M 1959 3097 \r\nQ 1497 3097 1228 2736 \r\nQ 959 2375 959 1747 \r\nQ 959 1119 1226 758 \r\nQ 1494 397 1959 397 \r\nQ 2419 397 2687 759 \r\nQ 2956 1122 2956 1747 \r\nQ 2956 2369 2687 2733 \r\nQ 2419 3097 1959 3097 \r\nz\r\nM 1959 3584 \r\nQ 2709 3584 3137 3096 \r\nQ 3566 2609 3566 1747 \r\nQ 3566 888 3137 398 \r\nQ 2709 -91 1959 -91 \r\nQ 1206 -91 779 398 \r\nQ 353 888 353 1747 \r\nQ 353 2609 779 3096 \r\nQ 1206 3584 1959 3584 \r\nz\r\n\" id=\"DejaVuSans-6f\" transform=\"scale(0.015625)\"/>\r\n      <path d=\"M 544 1381 \r\nL 544 3500 \r\nL 1119 3500 \r\nL 1119 1403 \r\nQ 1119 906 1312 657 \r\nQ 1506 409 1894 409 \r\nQ 2359 409 2629 706 \r\nQ 2900 1003 2900 1516 \r\nL 2900 3500 \r\nL 3475 3500 \r\nL 3475 0 \r\nL 2900 0 \r\nL 2900 538 \r\nQ 2691 219 2414 64 \r\nQ 2138 -91 1772 -91 \r\nQ 1169 -91 856 284 \r\nQ 544 659 544 1381 \r\nz\r\nM 1991 3584 \r\nL 1991 3584 \r\nz\r\n\" id=\"DejaVuSans-75\" transform=\"scale(0.015625)\"/>\r\n      <path d=\"M 3513 2113 \r\nL 3513 0 \r\nL 2938 0 \r\nL 2938 2094 \r\nQ 2938 2591 2744 2837 \r\nQ 2550 3084 2163 3084 \r\nQ 1697 3084 1428 2787 \r\nQ 1159 2491 1159 1978 \r\nL 1159 0 \r\nL 581 0 \r\nL 581 3500 \r\nL 1159 3500 \r\nL 1159 2956 \r\nQ 1366 3272 1645 3428 \r\nQ 1925 3584 2291 3584 \r\nQ 2894 3584 3203 3211 \r\nQ 3513 2838 3513 2113 \r\nz\r\n\" id=\"DejaVuSans-6e\" transform=\"scale(0.015625)\"/>\r\n      <path d=\"M 2906 2969 \r\nL 2906 4863 \r\nL 3481 4863 \r\nL 3481 0 \r\nL 2906 0 \r\nL 2906 525 \r\nQ 2725 213 2448 61 \r\nQ 2172 -91 1784 -91 \r\nQ 1150 -91 751 415 \r\nQ 353 922 353 1747 \r\nQ 353 2572 751 3078 \r\nQ 1150 3584 1784 3584 \r\nQ 2172 3584 2448 3432 \r\nQ 2725 3281 2906 2969 \r\nz\r\nM 947 1747 \r\nQ 947 1113 1208 752 \r\nQ 1469 391 1925 391 \r\nQ 2381 391 2643 752 \r\nQ 2906 1113 2906 1747 \r\nQ 2906 2381 2643 2742 \r\nQ 2381 3103 1925 3103 \r\nQ 1469 3103 1208 2742 \r\nQ 947 2381 947 1747 \r\nz\r\n\" id=\"DejaVuSans-64\" transform=\"scale(0.015625)\"/>\r\n      <path id=\"DejaVuSans-20\" transform=\"scale(0.015625)\"/>\r\n      <path d=\"M -19 4666 \r\nL 3928 4666 \r\nL 3928 4134 \r\nL 2272 4134 \r\nL 2272 0 \r\nL 1638 0 \r\nL 1638 4134 \r\nL -19 4134 \r\nL -19 4666 \r\nz\r\n\" id=\"DejaVuSans-54\" transform=\"scale(0.015625)\"/>\r\n      <path d=\"M 1172 4494 \r\nL 1172 3500 \r\nL 2356 3500 \r\nL 2356 3053 \r\nL 1172 3053 \r\nL 1172 1153 \r\nQ 1172 725 1289 603 \r\nQ 1406 481 1766 481 \r\nL 2356 481 \r\nL 2356 0 \r\nL 1766 0 \r\nQ 1100 0 847 248 \r\nQ 594 497 594 1153 \r\nL 594 3053 \r\nL 172 3053 \r\nL 172 3500 \r\nL 594 3500 \r\nL 594 4494 \r\nL 1172 4494 \r\nz\r\n\" id=\"DejaVuSans-74\" transform=\"scale(0.015625)\"/>\r\n      <path d=\"M 3513 2113 \r\nL 3513 0 \r\nL 2938 0 \r\nL 2938 2094 \r\nQ 2938 2591 2744 2837 \r\nQ 2550 3084 2163 3084 \r\nQ 1697 3084 1428 2787 \r\nQ 1159 2491 1159 1978 \r\nL 1159 0 \r\nL 581 0 \r\nL 581 4863 \r\nL 1159 4863 \r\nL 1159 2956 \r\nQ 1366 3272 1645 3428 \r\nQ 1925 3584 2291 3584 \r\nQ 2894 3584 3203 3211 \r\nQ 3513 2838 3513 2113 \r\nz\r\n\" id=\"DejaVuSans-68\" transform=\"scale(0.015625)\"/>\r\n      <path d=\"M 750 794 \r\nL 1409 794 \r\nL 1409 0 \r\nL 750 0 \r\nL 750 794 \r\nz\r\nM 750 3309 \r\nL 1409 3309 \r\nL 1409 2516 \r\nL 750 2516 \r\nL 750 3309 \r\nz\r\n\" id=\"DejaVuSans-3a\" transform=\"scale(0.015625)\"/>\r\n      <path d=\"M 691 4666 \r\nL 3169 4666 \r\nL 3169 4134 \r\nL 1269 4134 \r\nL 1269 2991 \r\nQ 1406 3038 1543 3061 \r\nQ 1681 3084 1819 3084 \r\nQ 2600 3084 3056 2656 \r\nQ 3513 2228 3513 1497 \r\nQ 3513 744 3044 326 \r\nQ 2575 -91 1722 -91 \r\nQ 1428 -91 1123 -41 \r\nQ 819 9 494 109 \r\nL 494 744 \r\nQ 775 591 1075 516 \r\nQ 1375 441 1709 441 \r\nQ 2250 441 2565 725 \r\nQ 2881 1009 2881 1497 \r\nQ 2881 1984 2565 2268 \r\nQ 2250 2553 1709 2553 \r\nQ 1456 2553 1204 2497 \r\nQ 953 2441 691 2322 \r\nL 691 4666 \r\nz\r\n\" id=\"DejaVuSans-35\" transform=\"scale(0.015625)\"/>\r\n     </defs>\r\n     <use xlink:href=\"#DejaVuSans-47\"/>\r\n     <use x=\"77.490234\" xlink:href=\"#DejaVuSans-72\"/>\r\n     <use x=\"116.353516\" xlink:href=\"#DejaVuSans-6f\"/>\r\n     <use x=\"177.535156\" xlink:href=\"#DejaVuSans-75\"/>\r\n     <use x=\"240.914062\" xlink:href=\"#DejaVuSans-6e\"/>\r\n     <use x=\"304.292969\" xlink:href=\"#DejaVuSans-64\"/>\r\n     <use x=\"367.769531\" xlink:href=\"#DejaVuSans-20\"/>\r\n     <use x=\"399.556641\" xlink:href=\"#DejaVuSans-54\"/>\r\n     <use x=\"445.890625\" xlink:href=\"#DejaVuSans-72\"/>\r\n     <use x=\"487.003906\" xlink:href=\"#DejaVuSans-75\"/>\r\n     <use x=\"550.382812\" xlink:href=\"#DejaVuSans-74\"/>\r\n     <use x=\"589.591797\" xlink:href=\"#DejaVuSans-68\"/>\r\n     <use x=\"652.970703\" xlink:href=\"#DejaVuSans-3a\"/>\r\n     <use x=\"686.662109\" xlink:href=\"#DejaVuSans-20\"/>\r\n     <use x=\"718.449219\" xlink:href=\"#DejaVuSans-35\"/>\r\n    </g>\r\n   </g>\r\n  </g>\r\n  <g id=\"axes_2\">\r\n   <g id=\"patch_7\">\r\n    <path d=\"M 153.442969 123.868125 \r\nL 254.992969 123.868125 \r\nL 254.992969 22.318125 \r\nL 153.442969 22.318125 \r\nz\r\n\" style=\"fill:#ffffff;\"/>\r\n   </g>\r\n   <g clip-path=\"url(#p6718db0d41)\">\r\n    <image height=\"28\" id=\"imagead6db3eccd\" style=\"image-rendering:crisp-edges;image-rendering:pixelated\" transform=\"matrix(3.642857 0 0 3.642857 153.442969 21.868125)\" width=\"28\" xlink:href=\"data:image/png;base64,\r\niVBORw0KGgoAAAANSUhEUgAAABwAAAAcCAYAAAByDd+UAAACVUlEQVR4nO2WsUt6URTHv0n6nAS9DdbSlNMbHMKhIue2ggIHl4awRgmFhzwQXKUhWp1aUgiDR4P+Bwa1SBQ0NEm4FBhveDy939/ww8fvlS/9Ybb8fgfOcs/hfO75cs+9dw4A8YPm+0nYf+A/CFRVFbquo9vtgqTjnU4Huq6j3W47a6ZpQtd1aJr2qQ7HeTweZ7VapW3blFL+tWua5tSaH9fV0dERTk5OoCjKp1itVsPLywu2t7exvLwMAGg0Gnh8fHTl3d7eTtZhJpPh6+urs9NqtUohBIvFIrPZLP1+PwEwFApRCEEhBBVFGaeYd9CyLJc05+fnY+WfwL2DNzc3LuD7+zsNw2A4HJ4NMBKJMBaLMZ1Ou+DPz89MpVLfD/wIT6fT7PV6lFKy1+vx6uqKCwsLswEOXVVVPj09Od02m02ura3NDgj8nstsNutAHx4emEgkvge4tLTE9fV1BgIB17oQgvv7+3x7e3MOVDKZnB54d3dHKSUXFxdHxnd3d3l/f08pJQ3DmA54eXlJ27Z5fX3NYDDombe6uupIOxVwOPibm5tfFimXy9MDd3Z22O/3KaWkEMKzQKFQYKfToZSSpVJpLNDz8lZVFT6f9+sVDAahaRoODg4QjUZh2zZarZZn/p82cifHx8fOsT88PKTP5yMAKorCjY0NGobhunn29vYmGou5oa6jzLIs+P1+AEClUoFpmlhZWcHW1hYAYDAY4OzsDK1WCxcXFxN159khANbrdc9H1bIs5nK5ibr64F8n5PN5mqbpgp2ennrO5VSSzsJ+/Nf2C5KrGfe6pnUSAAAAAElFTkSuQmCC\"/>\r\n   </g>\r\n   <g id=\"matplotlib.axis_3\"/>\r\n   <g id=\"matplotlib.axis_4\"/>\r\n   <g id=\"patch_8\">\r\n    <path d=\"M 153.442969 123.868125 \r\nL 153.442969 22.318125 \r\n\" style=\"fill:none;stroke:#000000;stroke-linecap:square;stroke-linejoin:miter;stroke-width:0.8;\"/>\r\n   </g>\r\n   <g id=\"patch_9\">\r\n    <path d=\"M 254.992969 123.868125 \r\nL 254.992969 22.318125 \r\n\" style=\"fill:none;stroke:#000000;stroke-linecap:square;stroke-linejoin:miter;stroke-width:0.8;\"/>\r\n   </g>\r\n   <g id=\"patch_10\">\r\n    <path d=\"M 153.442969 123.868125 \r\nL 254.992969 123.868125 \r\n\" style=\"fill:none;stroke:#000000;stroke-linecap:square;stroke-linejoin:miter;stroke-width:0.8;\"/>\r\n   </g>\r\n   <g id=\"patch_11\">\r\n    <path d=\"M 153.442969 22.318125 \r\nL 254.992969 22.318125 \r\n\" style=\"fill:none;stroke:#000000;stroke-linecap:square;stroke-linejoin:miter;stroke-width:0.8;\"/>\r\n   </g>\r\n   <g id=\"text_2\">\r\n    <!-- Ground Truth: 5 -->\r\n    <g transform=\"translate(157.296094 16.318125)scale(0.12 -0.12)\">\r\n     <use xlink:href=\"#DejaVuSans-47\"/>\r\n     <use x=\"77.490234\" xlink:href=\"#DejaVuSans-72\"/>\r\n     <use x=\"116.353516\" xlink:href=\"#DejaVuSans-6f\"/>\r\n     <use x=\"177.535156\" xlink:href=\"#DejaVuSans-75\"/>\r\n     <use x=\"240.914062\" xlink:href=\"#DejaVuSans-6e\"/>\r\n     <use x=\"304.292969\" xlink:href=\"#DejaVuSans-64\"/>\r\n     <use x=\"367.769531\" xlink:href=\"#DejaVuSans-20\"/>\r\n     <use x=\"399.556641\" xlink:href=\"#DejaVuSans-54\"/>\r\n     <use x=\"445.890625\" xlink:href=\"#DejaVuSans-72\"/>\r\n     <use x=\"487.003906\" xlink:href=\"#DejaVuSans-75\"/>\r\n     <use x=\"550.382812\" xlink:href=\"#DejaVuSans-74\"/>\r\n     <use x=\"589.591797\" xlink:href=\"#DejaVuSans-68\"/>\r\n     <use x=\"652.970703\" xlink:href=\"#DejaVuSans-3a\"/>\r\n     <use x=\"686.662109\" xlink:href=\"#DejaVuSans-20\"/>\r\n     <use x=\"718.449219\" xlink:href=\"#DejaVuSans-35\"/>\r\n    </g>\r\n   </g>\r\n  </g>\r\n  <g id=\"axes_3\">\r\n   <g id=\"patch_12\">\r\n    <path d=\"M 296.185938 123.868125 \r\nL 397.735938 123.868125 \r\nL 397.735938 22.318125 \r\nL 296.185938 22.318125 \r\nz\r\n\" style=\"fill:#ffffff;\"/>\r\n   </g>\r\n   <g clip-path=\"url(#p1627efa757)\">\r\n    <image height=\"28\" id=\"image7988080142\" style=\"image-rendering:crisp-edges;image-rendering:pixelated\" transform=\"matrix(3.642857 0 0 3.642857 296.185938 21.868125)\" width=\"28\" xlink:href=\"data:image/png;base64,\r\niVBORw0KGgoAAAANSUhEUgAAABwAAAAcCAYAAAByDd+UAAABuElEQVR4nO2WsYrCQBCGJ1oFYYNWgpaCRdIJeQTBUhQbC/El9E3sbcQmoNgrWgj2gqSw0WJBBAsLEXb4rzgU4kVvI3rcwf0wkDCb+TI7zM4aRAT6QcV+EvY3gPV6nZiZmJkmkwkVi8XIUOhao9HA6XSCUgpKKTAzxuMxEomEdgxtYL/fx/F4vMIuQKUURqMRLMvSiqO9palUikzTDPWVSiVKp9NacbSB6/U69DmqDNLsQyEEFQoFIiKSUtJyuSTDMAj4/Ny2bfJ9XwsapeAgIgghAjVUSiGfz7+2hrfZPqungK1WK/C+WCxot9u9D3gr3/fpcDhor49Uv0wmA2YGMwMAmBnNZvP1jX+xarUaaPxOp4NYLPYeYC6XC5w2T2QXDVipVAJH22q1gmma7wFaloXZbBYAZrPZyD2sBbRtG71eLwBTSsF1XcTjcRARkskkXNeFEOJ5YK1Wg+d52O/3X2CXGg6HQ3ieh/l8DqUUptMpyuXyo+lxH7jZbEJBt+MpzAaDQWjMh41/Pp8fuR9qu93e9d3N0HEcdLvd619LKdFut692L0MpJRzHCY2pPZ5epd9/a/sHfqcPdvp2ftbx72YAAAAASUVORK5CYII=\"/>\r\n   </g>\r\n   <g id=\"matplotlib.axis_5\"/>\r\n   <g id=\"matplotlib.axis_6\"/>\r\n   <g id=\"patch_13\">\r\n    <path d=\"M 296.185938 123.868125 \r\nL 296.185938 22.318125 \r\n\" style=\"fill:none;stroke:#000000;stroke-linecap:square;stroke-linejoin:miter;stroke-width:0.8;\"/>\r\n   </g>\r\n   <g id=\"patch_14\">\r\n    <path d=\"M 397.735938 123.868125 \r\nL 397.735938 22.318125 \r\n\" style=\"fill:none;stroke:#000000;stroke-linecap:square;stroke-linejoin:miter;stroke-width:0.8;\"/>\r\n   </g>\r\n   <g id=\"patch_15\">\r\n    <path d=\"M 296.185938 123.868125 \r\nL 397.735938 123.868125 \r\n\" style=\"fill:none;stroke:#000000;stroke-linecap:square;stroke-linejoin:miter;stroke-width:0.8;\"/>\r\n   </g>\r\n   <g id=\"patch_16\">\r\n    <path d=\"M 296.185938 22.318125 \r\nL 397.735938 22.318125 \r\n\" style=\"fill:none;stroke:#000000;stroke-linecap:square;stroke-linejoin:miter;stroke-width:0.8;\"/>\r\n   </g>\r\n   <g id=\"text_3\">\r\n    <!-- Ground Truth: 2 -->\r\n    <g transform=\"translate(300.039063 16.318125)scale(0.12 -0.12)\">\r\n     <defs>\r\n      <path d=\"M 1228 531 \r\nL 3431 531 \r\nL 3431 0 \r\nL 469 0 \r\nL 469 531 \r\nQ 828 903 1448 1529 \r\nQ 2069 2156 2228 2338 \r\nQ 2531 2678 2651 2914 \r\nQ 2772 3150 2772 3378 \r\nQ 2772 3750 2511 3984 \r\nQ 2250 4219 1831 4219 \r\nQ 1534 4219 1204 4116 \r\nQ 875 4013 500 3803 \r\nL 500 4441 \r\nQ 881 4594 1212 4672 \r\nQ 1544 4750 1819 4750 \r\nQ 2544 4750 2975 4387 \r\nQ 3406 4025 3406 3419 \r\nQ 3406 3131 3298 2873 \r\nQ 3191 2616 2906 2266 \r\nQ 2828 2175 2409 1742 \r\nQ 1991 1309 1228 531 \r\nz\r\n\" id=\"DejaVuSans-32\" transform=\"scale(0.015625)\"/>\r\n     </defs>\r\n     <use xlink:href=\"#DejaVuSans-47\"/>\r\n     <use x=\"77.490234\" xlink:href=\"#DejaVuSans-72\"/>\r\n     <use x=\"116.353516\" xlink:href=\"#DejaVuSans-6f\"/>\r\n     <use x=\"177.535156\" xlink:href=\"#DejaVuSans-75\"/>\r\n     <use x=\"240.914062\" xlink:href=\"#DejaVuSans-6e\"/>\r\n     <use x=\"304.292969\" xlink:href=\"#DejaVuSans-64\"/>\r\n     <use x=\"367.769531\" xlink:href=\"#DejaVuSans-20\"/>\r\n     <use x=\"399.556641\" xlink:href=\"#DejaVuSans-54\"/>\r\n     <use x=\"445.890625\" xlink:href=\"#DejaVuSans-72\"/>\r\n     <use x=\"487.003906\" xlink:href=\"#DejaVuSans-75\"/>\r\n     <use x=\"550.382812\" xlink:href=\"#DejaVuSans-74\"/>\r\n     <use x=\"589.591797\" xlink:href=\"#DejaVuSans-68\"/>\r\n     <use x=\"652.970703\" xlink:href=\"#DejaVuSans-3a\"/>\r\n     <use x=\"686.662109\" xlink:href=\"#DejaVuSans-20\"/>\r\n     <use x=\"718.449219\" xlink:href=\"#DejaVuSans-32\"/>\r\n    </g>\r\n   </g>\r\n  </g>\r\n  <g id=\"axes_4\">\r\n   <g id=\"patch_17\">\r\n    <path d=\"M 10.7 255.718125 \r\nL 112.25 255.718125 \r\nL 112.25 154.168125 \r\nL 10.7 154.168125 \r\nz\r\n\" style=\"fill:#ffffff;\"/>\r\n   </g>\r\n   <g clip-path=\"url(#pbd5731ccd1)\">\r\n    <image height=\"28\" id=\"image1d8287a40c\" style=\"image-rendering:crisp-edges;image-rendering:pixelated\" transform=\"matrix(3.642857 0 0 3.642857 10.7 153.718125)\" width=\"28\" xlink:href=\"data:image/png;base64,\r\niVBORw0KGgoAAAANSUhEUgAAABwAAAAcCAYAAAByDd+UAAACAUlEQVR4nO2VP8uyYBTGTya4CAWVUNAeTRXRFER/hqCoj9DQFPQdCoKGIGhrC+eGrKmhGnIuaDRoyqXaKoqi9LzDC76PaK8aT8/0HLhAbq/7/Dy356gNABB+MIifhP0Cf4GfATqdTmg2myDLskqICLIsA8/zkMlkgKIo01B8pVqthqfTCSVJMlSlUnmZ56tsoDP4NE1DLpeDbrcLDocDAAC22y3s93uVLxwOA0mSAABwPB4hlUrBarWyXmEsFlM9Pcuy6Pf7NT6O41S+Xq9npkrtYqlUUpIIgqALKxQKeL/fVcDpdGoI1G2afD6vXE8mExBFUePJZrPKcVoJXaAsy/8MBAE2m03jsdvtmrVEIgGRSMQQavgOO50OMgyj3He5XLher3W7NRqNWn+HbrcbeZ5XJbpcLsiyLLIsi7vd7uV41Ot160AAQIZhcD6f/3f2RFHEdrutWuv3++8BAQA9Hg9Wq1UcDoc4Ho81HVkul5Gm6e8DfhVJkhgIBBRRFIUAYBlouq+fzycIgmDoWy6Xhh5TFb5SsVhUqttsNujz+b7nSPWUTCbx8XgowMFg8N6XxmyEQiEgiL8prtcrtFotU/veqs7r9eJisVCq4zjO7N73gLPZTIGdz2eMx+OfA6bTabzdbgpwNBpZ2W8dGAwG8XA4oCRJ2Gg0lJk0I90//ifjD9MY7hYZldqCAAAAAElFTkSuQmCC\"/>\r\n   </g>\r\n   <g id=\"matplotlib.axis_7\"/>\r\n   <g id=\"matplotlib.axis_8\"/>\r\n   <g id=\"patch_18\">\r\n    <path d=\"M 10.7 255.718125 \r\nL 10.7 154.168125 \r\n\" style=\"fill:none;stroke:#000000;stroke-linecap:square;stroke-linejoin:miter;stroke-width:0.8;\"/>\r\n   </g>\r\n   <g id=\"patch_19\">\r\n    <path d=\"M 112.25 255.718125 \r\nL 112.25 154.168125 \r\n\" style=\"fill:none;stroke:#000000;stroke-linecap:square;stroke-linejoin:miter;stroke-width:0.8;\"/>\r\n   </g>\r\n   <g id=\"patch_20\">\r\n    <path d=\"M 10.7 255.718125 \r\nL 112.25 255.718125 \r\n\" style=\"fill:none;stroke:#000000;stroke-linecap:square;stroke-linejoin:miter;stroke-width:0.8;\"/>\r\n   </g>\r\n   <g id=\"patch_21\">\r\n    <path d=\"M 10.7 154.168125 \r\nL 112.25 154.168125 \r\n\" style=\"fill:none;stroke:#000000;stroke-linecap:square;stroke-linejoin:miter;stroke-width:0.8;\"/>\r\n   </g>\r\n   <g id=\"text_4\">\r\n    <!-- Ground Truth: 9 -->\r\n    <g transform=\"translate(14.553125 148.168125)scale(0.12 -0.12)\">\r\n     <defs>\r\n      <path d=\"M 703 97 \r\nL 703 672 \r\nQ 941 559 1184 500 \r\nQ 1428 441 1663 441 \r\nQ 2288 441 2617 861 \r\nQ 2947 1281 2994 2138 \r\nQ 2813 1869 2534 1725 \r\nQ 2256 1581 1919 1581 \r\nQ 1219 1581 811 2004 \r\nQ 403 2428 403 3163 \r\nQ 403 3881 828 4315 \r\nQ 1253 4750 1959 4750 \r\nQ 2769 4750 3195 4129 \r\nQ 3622 3509 3622 2328 \r\nQ 3622 1225 3098 567 \r\nQ 2575 -91 1691 -91 \r\nQ 1453 -91 1209 -44 \r\nQ 966 3 703 97 \r\nz\r\nM 1959 2075 \r\nQ 2384 2075 2632 2365 \r\nQ 2881 2656 2881 3163 \r\nQ 2881 3666 2632 3958 \r\nQ 2384 4250 1959 4250 \r\nQ 1534 4250 1286 3958 \r\nQ 1038 3666 1038 3163 \r\nQ 1038 2656 1286 2365 \r\nQ 1534 2075 1959 2075 \r\nz\r\n\" id=\"DejaVuSans-39\" transform=\"scale(0.015625)\"/>\r\n     </defs>\r\n     <use xlink:href=\"#DejaVuSans-47\"/>\r\n     <use x=\"77.490234\" xlink:href=\"#DejaVuSans-72\"/>\r\n     <use x=\"116.353516\" xlink:href=\"#DejaVuSans-6f\"/>\r\n     <use x=\"177.535156\" xlink:href=\"#DejaVuSans-75\"/>\r\n     <use x=\"240.914062\" xlink:href=\"#DejaVuSans-6e\"/>\r\n     <use x=\"304.292969\" xlink:href=\"#DejaVuSans-64\"/>\r\n     <use x=\"367.769531\" xlink:href=\"#DejaVuSans-20\"/>\r\n     <use x=\"399.556641\" xlink:href=\"#DejaVuSans-54\"/>\r\n     <use x=\"445.890625\" xlink:href=\"#DejaVuSans-72\"/>\r\n     <use x=\"487.003906\" xlink:href=\"#DejaVuSans-75\"/>\r\n     <use x=\"550.382812\" xlink:href=\"#DejaVuSans-74\"/>\r\n     <use x=\"589.591797\" xlink:href=\"#DejaVuSans-68\"/>\r\n     <use x=\"652.970703\" xlink:href=\"#DejaVuSans-3a\"/>\r\n     <use x=\"686.662109\" xlink:href=\"#DejaVuSans-20\"/>\r\n     <use x=\"718.449219\" xlink:href=\"#DejaVuSans-39\"/>\r\n    </g>\r\n   </g>\r\n  </g>\r\n  <g id=\"axes_5\">\r\n   <g id=\"patch_22\">\r\n    <path d=\"M 153.442969 255.718125 \r\nL 254.992969 255.718125 \r\nL 254.992969 154.168125 \r\nL 153.442969 154.168125 \r\nz\r\n\" style=\"fill:#ffffff;\"/>\r\n   </g>\r\n   <g clip-path=\"url(#pc21f543119)\">\r\n    <image height=\"28\" id=\"imagedea2157616\" style=\"image-rendering:crisp-edges;image-rendering:pixelated\" transform=\"matrix(3.642857 0 0 3.642857 153.442969 153.718125)\" width=\"28\" xlink:href=\"data:image/png;base64,\r\niVBORw0KGgoAAAANSUhEUgAAABwAAAAcCAYAAAByDd+UAAACaklEQVR4nO2Wv0tyYRTHT6/gpIhkiBAODuJmU4iToAaCThI0OipGCF7Qi/+DkKPiKg21KELQcAXBSSQItCHUQYKGUhHR5bnfph5e9apXX4r3hffAWZ7z48P5cQ/3gIhAPyi/fhL2H7giJpOJWq0WybJMoih+L9BsNlO1WiWn00kACAAJgkDj8ZgkSaJAIKAaim1qsVjQaDTAGANjDJIkQa/XQ5Ik/jadTnFycrI1lyrg1dUVT/z6+gqj0QgiwuHhIUqlEqbTKRhjeHh4wNHR0Z8BXS4XOp3OQnXLPqIocvvt7e3+QJPJhG63y5PV63VYLBbFlvf7fTDGMBwOcXFxsR9QEISFGXm93rW+mUyG+47HY3g8nt2Afr8fk8mEJ0kmkxtbZbVa8fLywv0rlQp0Op164OXlJQ9ut9s4Pj7eulzn5+d4fHzkcff39+qB5XKZBwqCoGbdQUQ4PT3lcaPRSB1QFEXIsgxZlvH8/Kyqut81kUgAAGazGVwu14Jt7aX5uibFYpEGg8E6N0W5ubmhTqdDWq2W0un0gm3raSuXyzvBiIhmsxm9v78TEVEoFNoNuI/4fD5yu92KNkXg2dnZ3jCDwUCJRIKIiBhjlEqlVnw2nqpCobDue1LUcDjMY5+entRtqd1u5wf5C+pwOKDX6xUhBoMBDocDuVwOb29vYIwhm83CZrOt+B58UZfl+vqaYrEYaTQa/lar1RQ31mazLczs4+ODotEo3d3dKbZ9bXsikQh6vR6vdFkBgDGG+XyO0WiEZrOJeDyuWNnGli63N5/PKwIlSUI6nUYwGFQ947Ut/S75u//a/kngJ21k08eFvK/iAAAAAElFTkSuQmCC\"/>\r\n   </g>\r\n   <g id=\"matplotlib.axis_9\"/>\r\n   <g id=\"matplotlib.axis_10\"/>\r\n   <g id=\"patch_23\">\r\n    <path d=\"M 153.442969 255.718125 \r\nL 153.442969 154.168125 \r\n\" style=\"fill:none;stroke:#000000;stroke-linecap:square;stroke-linejoin:miter;stroke-width:0.8;\"/>\r\n   </g>\r\n   <g id=\"patch_24\">\r\n    <path d=\"M 254.992969 255.718125 \r\nL 254.992969 154.168125 \r\n\" style=\"fill:none;stroke:#000000;stroke-linecap:square;stroke-linejoin:miter;stroke-width:0.8;\"/>\r\n   </g>\r\n   <g id=\"patch_25\">\r\n    <path d=\"M 153.442969 255.718125 \r\nL 254.992969 255.718125 \r\n\" style=\"fill:none;stroke:#000000;stroke-linecap:square;stroke-linejoin:miter;stroke-width:0.8;\"/>\r\n   </g>\r\n   <g id=\"patch_26\">\r\n    <path d=\"M 153.442969 154.168125 \r\nL 254.992969 154.168125 \r\n\" style=\"fill:none;stroke:#000000;stroke-linecap:square;stroke-linejoin:miter;stroke-width:0.8;\"/>\r\n   </g>\r\n   <g id=\"text_5\">\r\n    <!-- Ground Truth: 0 -->\r\n    <g transform=\"translate(157.296094 148.168125)scale(0.12 -0.12)\">\r\n     <defs>\r\n      <path d=\"M 2034 4250 \r\nQ 1547 4250 1301 3770 \r\nQ 1056 3291 1056 2328 \r\nQ 1056 1369 1301 889 \r\nQ 1547 409 2034 409 \r\nQ 2525 409 2770 889 \r\nQ 3016 1369 3016 2328 \r\nQ 3016 3291 2770 3770 \r\nQ 2525 4250 2034 4250 \r\nz\r\nM 2034 4750 \r\nQ 2819 4750 3233 4129 \r\nQ 3647 3509 3647 2328 \r\nQ 3647 1150 3233 529 \r\nQ 2819 -91 2034 -91 \r\nQ 1250 -91 836 529 \r\nQ 422 1150 422 2328 \r\nQ 422 3509 836 4129 \r\nQ 1250 4750 2034 4750 \r\nz\r\n\" id=\"DejaVuSans-30\" transform=\"scale(0.015625)\"/>\r\n     </defs>\r\n     <use xlink:href=\"#DejaVuSans-47\"/>\r\n     <use x=\"77.490234\" xlink:href=\"#DejaVuSans-72\"/>\r\n     <use x=\"116.353516\" xlink:href=\"#DejaVuSans-6f\"/>\r\n     <use x=\"177.535156\" xlink:href=\"#DejaVuSans-75\"/>\r\n     <use x=\"240.914062\" xlink:href=\"#DejaVuSans-6e\"/>\r\n     <use x=\"304.292969\" xlink:href=\"#DejaVuSans-64\"/>\r\n     <use x=\"367.769531\" xlink:href=\"#DejaVuSans-20\"/>\r\n     <use x=\"399.556641\" xlink:href=\"#DejaVuSans-54\"/>\r\n     <use x=\"445.890625\" xlink:href=\"#DejaVuSans-72\"/>\r\n     <use x=\"487.003906\" xlink:href=\"#DejaVuSans-75\"/>\r\n     <use x=\"550.382812\" xlink:href=\"#DejaVuSans-74\"/>\r\n     <use x=\"589.591797\" xlink:href=\"#DejaVuSans-68\"/>\r\n     <use x=\"652.970703\" xlink:href=\"#DejaVuSans-3a\"/>\r\n     <use x=\"686.662109\" xlink:href=\"#DejaVuSans-20\"/>\r\n     <use x=\"718.449219\" xlink:href=\"#DejaVuSans-30\"/>\r\n    </g>\r\n   </g>\r\n  </g>\r\n  <g id=\"axes_6\">\r\n   <g id=\"patch_27\">\r\n    <path d=\"M 296.185938 255.718125 \r\nL 397.735938 255.718125 \r\nL 397.735938 154.168125 \r\nL 296.185938 154.168125 \r\nz\r\n\" style=\"fill:#ffffff;\"/>\r\n   </g>\r\n   <g clip-path=\"url(#p3e0e3cc382)\">\r\n    <image height=\"28\" id=\"image0c30159fcf\" style=\"image-rendering:crisp-edges;image-rendering:pixelated\" transform=\"matrix(3.642857 0 0 3.642857 296.185938 153.718125)\" width=\"28\" xlink:href=\"data:image/png;base64,\r\niVBORw0KGgoAAAANSUhEUgAAABwAAAAcCAYAAAByDd+UAAACAklEQVR4nOWWPc8hURTHz7MZUZApSJAoiOi8fgFBo1IgkVCrFEo6lY8gVLQaxCdQCBEFHwERkYxJRGRiMiLuf5tdeXafJTPrpdg9yT+5ufee+5tzz733zAcRgd5o394J+z+AnJbJdrudRqMRCYJAm82GiIgGgwG1220SRZEYY6rWgVpVKhUwxiBJEk6nEyRJAmMMjDHk83m166gHNhoNyLIMi8WCQCAAq9WKeDyO7XaLw+EAm832fGChUPjSP5vNwBiD0+l8LjCZTCIQCPzSl0gkIEkSJpMJ9Hr9c4G/y+1243g8QpZl+P3+5+fws6xWK1qtFmRZRjqd1uKrDeTxeFAul7Hf78EYQy6X0/qx6ifHYjEoinK9Gm63GxzHvQ5ot9tRLBZRrVZxuVxQr9dhNptfB/ysWq0GAMhms+8BGgwGrNdrLJdLTdv614/38XikZrNJDoeDvF6var+HqkWn09HscxfI8/xd51AopBlIdGOvXS4Xut0ueJ6/mY9+v4/dbqf20b6fw1QqRUaj8WaUHMcRz/M0n89JEITHI7RYLJhOp1itVshkMjCZTNDpdNfxaDQKxhhKpZKm0/3xo/FHCwaD1Gw2yefzkaIodLlcqNfrEWOMIpEInc9nCofDJIri4xH+FMdxKJfLGI/HWCwW1wo/HA6/lKqHI3yF/fu/iW8HfgflPkd1C/wsnAAAAABJRU5ErkJggg==\"/>\r\n   </g>\r\n   <g id=\"matplotlib.axis_11\"/>\r\n   <g id=\"matplotlib.axis_12\"/>\r\n   <g id=\"patch_28\">\r\n    <path d=\"M 296.185938 255.718125 \r\nL 296.185938 154.168125 \r\n\" style=\"fill:none;stroke:#000000;stroke-linecap:square;stroke-linejoin:miter;stroke-width:0.8;\"/>\r\n   </g>\r\n   <g id=\"patch_29\">\r\n    <path d=\"M 397.735938 255.718125 \r\nL 397.735938 154.168125 \r\n\" style=\"fill:none;stroke:#000000;stroke-linecap:square;stroke-linejoin:miter;stroke-width:0.8;\"/>\r\n   </g>\r\n   <g id=\"patch_30\">\r\n    <path d=\"M 296.185938 255.718125 \r\nL 397.735938 255.718125 \r\n\" style=\"fill:none;stroke:#000000;stroke-linecap:square;stroke-linejoin:miter;stroke-width:0.8;\"/>\r\n   </g>\r\n   <g id=\"patch_31\">\r\n    <path d=\"M 296.185938 154.168125 \r\nL 397.735938 154.168125 \r\n\" style=\"fill:none;stroke:#000000;stroke-linecap:square;stroke-linejoin:miter;stroke-width:0.8;\"/>\r\n   </g>\r\n   <g id=\"text_6\">\r\n    <!-- Ground Truth: 3 -->\r\n    <g transform=\"translate(300.039063 148.168125)scale(0.12 -0.12)\">\r\n     <defs>\r\n      <path d=\"M 2597 2516 \r\nQ 3050 2419 3304 2112 \r\nQ 3559 1806 3559 1356 \r\nQ 3559 666 3084 287 \r\nQ 2609 -91 1734 -91 \r\nQ 1441 -91 1130 -33 \r\nQ 819 25 488 141 \r\nL 488 750 \r\nQ 750 597 1062 519 \r\nQ 1375 441 1716 441 \r\nQ 2309 441 2620 675 \r\nQ 2931 909 2931 1356 \r\nQ 2931 1769 2642 2001 \r\nQ 2353 2234 1838 2234 \r\nL 1294 2234 \r\nL 1294 2753 \r\nL 1863 2753 \r\nQ 2328 2753 2575 2939 \r\nQ 2822 3125 2822 3475 \r\nQ 2822 3834 2567 4026 \r\nQ 2313 4219 1838 4219 \r\nQ 1578 4219 1281 4162 \r\nQ 984 4106 628 3988 \r\nL 628 4550 \r\nQ 988 4650 1302 4700 \r\nQ 1616 4750 1894 4750 \r\nQ 2613 4750 3031 4423 \r\nQ 3450 4097 3450 3541 \r\nQ 3450 3153 3228 2886 \r\nQ 3006 2619 2597 2516 \r\nz\r\n\" id=\"DejaVuSans-33\" transform=\"scale(0.015625)\"/>\r\n     </defs>\r\n     <use xlink:href=\"#DejaVuSans-47\"/>\r\n     <use x=\"77.490234\" xlink:href=\"#DejaVuSans-72\"/>\r\n     <use x=\"116.353516\" xlink:href=\"#DejaVuSans-6f\"/>\r\n     <use x=\"177.535156\" xlink:href=\"#DejaVuSans-75\"/>\r\n     <use x=\"240.914062\" xlink:href=\"#DejaVuSans-6e\"/>\r\n     <use x=\"304.292969\" xlink:href=\"#DejaVuSans-64\"/>\r\n     <use x=\"367.769531\" xlink:href=\"#DejaVuSans-20\"/>\r\n     <use x=\"399.556641\" xlink:href=\"#DejaVuSans-54\"/>\r\n     <use x=\"445.890625\" xlink:href=\"#DejaVuSans-72\"/>\r\n     <use x=\"487.003906\" xlink:href=\"#DejaVuSans-75\"/>\r\n     <use x=\"550.382812\" xlink:href=\"#DejaVuSans-74\"/>\r\n     <use x=\"589.591797\" xlink:href=\"#DejaVuSans-68\"/>\r\n     <use x=\"652.970703\" xlink:href=\"#DejaVuSans-3a\"/>\r\n     <use x=\"686.662109\" xlink:href=\"#DejaVuSans-20\"/>\r\n     <use x=\"718.449219\" xlink:href=\"#DejaVuSans-33\"/>\r\n    </g>\r\n   </g>\r\n  </g>\r\n </g>\r\n <defs>\r\n  <clipPath id=\"pe5dfdfe62b\">\r\n   <rect height=\"101.55\" width=\"101.55\" x=\"10.7\" y=\"22.318125\"/>\r\n  </clipPath>\r\n  <clipPath id=\"p6718db0d41\">\r\n   <rect height=\"101.55\" width=\"101.55\" x=\"153.442969\" y=\"22.318125\"/>\r\n  </clipPath>\r\n  <clipPath id=\"p1627efa757\">\r\n   <rect height=\"101.55\" width=\"101.55\" x=\"296.185938\" y=\"22.318125\"/>\r\n  </clipPath>\r\n  <clipPath id=\"pbd5731ccd1\">\r\n   <rect height=\"101.55\" width=\"101.55\" x=\"10.7\" y=\"154.168125\"/>\r\n  </clipPath>\r\n  <clipPath id=\"pc21f543119\">\r\n   <rect height=\"101.55\" width=\"101.55\" x=\"153.442969\" y=\"154.168125\"/>\r\n  </clipPath>\r\n  <clipPath id=\"p3e0e3cc382\">\r\n   <rect height=\"101.55\" width=\"101.55\" x=\"296.185938\" y=\"154.168125\"/>\r\n  </clipPath>\r\n </defs>\r\n</svg>\r\n",
      "image/png": "[encoded data removed]"
     },
     "metadata": {}
    }
   ],
   "source": [
    "examples = enumerate(test_loader)\n",
    "batch_idx, (example_data, example_targets) = next(examples)\n",
    "fig = plt.figure()\n",
    "image_dimensions = example_data[0][0].size()\n",
    "for i in range(6):\n",
    "  plt.subplot(2,3,i+1)\n",
    "  plt.tight_layout()\n",
    "  plt.imshow(example_data[i][0], cmap='gray', interpolation='none')\n",
    "  plt.title(\"Ground Truth: {}\".format(example_targets[i]))\n",
    "  plt.xticks([])\n",
    "  plt.yticks([])\n",
    "plt.show()\n"
   ]
  },
  {
   "cell_type": "code",
   "execution_count": 5,
   "metadata": {},
   "outputs": [],
   "source": [
    "input_dimension = image_dimensions[0]*image_dimensions[0]\n",
    "ouput_dimension = 10"
   ]
  },
  {
   "cell_type": "code",
   "execution_count": 6,
   "metadata": {},
   "outputs": [],
   "source": [
    "class Net(nn.Module):\n",
    "    def __init__(self):\n",
    "        super(Net, self).__init__()\n",
    "        self.net = nn.Sequential(nn.Flatten(), nn.Linear(input_dimension, ouput_dimension), nn.ReLU())\n",
    "    def forward(self, x):\n",
    "        return self.net(x)"
   ]
  },
  {
   "cell_type": "code",
   "execution_count": 7,
   "metadata": {},
   "outputs": [],
   "source": [
    "net = Net()\n",
    "net.cuda()\n",
    "loss = nn.CrossEntropyLoss()\n",
    "optimizer = torch.optim.SGD(net.parameters(), lr=learning_rate)"
   ]
  },
  {
   "cell_type": "code",
   "execution_count": 8,
   "metadata": {},
   "outputs": [],
   "source": [
    "train_losses = []\n",
    "train_counter = []\n",
    "test_losses = []\n",
    "test_counter = [i*len(train_loader.dataset) for i in range(n_epochs + 1)]"
   ]
  },
  {
   "cell_type": "code",
   "execution_count": 9,
   "metadata": {},
   "outputs": [],
   "source": [
    "def train(epoch):\n",
    "    net.train()\n",
    "    for batch_idx, (x, y) in enumerate(train_loader):\n",
    "        x = x.cuda()\n",
    "        y = y.cuda()\n",
    "        optimizer.zero_grad()\n",
    "        y_hat = net(x)\n",
    "        l = loss(y_hat, y)\n",
    "        l.backward()\n",
    "        optimizer.step()\n",
    "        if batch_idx % log_interval == 0:\n",
    "            print('Train Epoch: {} [{}/{} ({:.0f}%)]\\tLoss: {:.6f}'.format(\n",
    "                epoch, batch_idx * len(x), len(train_loader.dataset),\n",
    "                100. * batch_idx / len(train_loader), l.item()))\n",
    "            train_losses.append(l.item())\n",
    "            train_counter.append(\n",
    "                (batch_idx*64) + ((epoch-1)*len(train_loader.dataset)))"
   ]
  },
  {
   "cell_type": "code",
   "execution_count": 10,
   "metadata": {},
   "outputs": [],
   "source": [
    "def test():\n",
    "  net.eval()\n",
    "  test_loss = 0\n",
    "  correct = 0\n",
    "  with torch.no_grad():\n",
    "    for x, y in test_loader:\n",
    "      x = x.cuda()\n",
    "      y = y.cuda()\n",
    "      y_hat = net(x)\n",
    "      test_loss +=  loss(y_hat, y).item()\n",
    "      pred = y_hat.data.max(1, keepdim=True)[1]\n",
    "      correct += pred.eq(y.data.view_as(pred)).sum()\n",
    "  test_loss /= len(test_loader.dataset)\n",
    "  test_losses.append(test_loss)\n",
    "  print('\\nTest set: Avg. loss: {:.4f}, Accuracy: {}/{} ({:.0f}%)\\n'.format(\n",
    "    test_loss, correct, len(test_loader.dataset),\n",
    "    100. * correct / len(test_loader.dataset)))"
   ]
  },
  {
   "cell_type": "code",
   "execution_count": 11,
   "metadata": {},
   "outputs": [
    {
     "output_type": "stream",
     "name": "stdout",
     "text": [
      "Train Epoch: 0 [0/60000 (0%)]\tLoss: 2.300922\n",
      "Train Epoch: 0 [6400/60000 (11%)]\tLoss: 1.833655\n",
      "Train Epoch: 0 [12800/60000 (21%)]\tLoss: 1.556997\n",
      "Train Epoch: 0 [19200/60000 (32%)]\tLoss: 1.161903\n",
      "Train Epoch: 0 [25600/60000 (43%)]\tLoss: 0.975021\n",
      "Train Epoch: 0 [32000/60000 (53%)]\tLoss: 0.875861\n",
      "Train Epoch: 0 [38400/60000 (64%)]\tLoss: 0.874358\n",
      "Train Epoch: 0 [44800/60000 (75%)]\tLoss: 0.711796\n",
      "Train Epoch: 0 [51200/60000 (85%)]\tLoss: 0.616409\n",
      "Train Epoch: 0 [57600/60000 (96%)]\tLoss: 0.667531\n",
      "\n",
      "Test set: Avg. loss: 0.0006, Accuracy: 8654/10000 (87%)\n",
      "\n",
      "Train Epoch: 1 [0/60000 (0%)]\tLoss: 0.605955\n",
      "Train Epoch: 1 [6400/60000 (11%)]\tLoss: 0.525613\n",
      "Train Epoch: 1 [12800/60000 (21%)]\tLoss: 0.634156\n",
      "Train Epoch: 1 [19200/60000 (32%)]\tLoss: 0.688638\n",
      "Train Epoch: 1 [25600/60000 (43%)]\tLoss: 0.534044\n",
      "Train Epoch: 1 [32000/60000 (53%)]\tLoss: 0.554924\n",
      "Train Epoch: 1 [38400/60000 (64%)]\tLoss: 0.561989\n",
      "Train Epoch: 1 [44800/60000 (75%)]\tLoss: 0.467711\n",
      "Train Epoch: 1 [51200/60000 (85%)]\tLoss: 0.481520\n",
      "Train Epoch: 1 [57600/60000 (96%)]\tLoss: 0.287700\n",
      "\n",
      "Test set: Avg. loss: 0.0005, Accuracy: 8820/10000 (88%)\n",
      "\n",
      "Train Epoch: 2 [0/60000 (0%)]\tLoss: 0.569448\n",
      "Train Epoch: 2 [6400/60000 (11%)]\tLoss: 0.493221\n",
      "Train Epoch: 2 [12800/60000 (21%)]\tLoss: 0.551229\n",
      "Train Epoch: 2 [19200/60000 (32%)]\tLoss: 0.454108\n",
      "Train Epoch: 2 [25600/60000 (43%)]\tLoss: 0.401683\n",
      "Train Epoch: 2 [32000/60000 (53%)]\tLoss: 0.504126\n",
      "Train Epoch: 2 [38400/60000 (64%)]\tLoss: 0.525789\n",
      "Train Epoch: 2 [44800/60000 (75%)]\tLoss: 0.539702\n",
      "Train Epoch: 2 [51200/60000 (85%)]\tLoss: 0.540198\n",
      "Train Epoch: 2 [57600/60000 (96%)]\tLoss: 0.375180\n",
      "\n",
      "Test set: Avg. loss: 0.0004, Accuracy: 8902/10000 (89%)\n",
      "\n"
     ]
    }
   ],
   "source": [
    "for epoch in range(0, n_epochs):\n",
    "  train(epoch)\n",
    "  test()"
   ]
  },
  {
   "cell_type": "code",
   "execution_count": 12,
   "metadata": {},
   "outputs": [],
   "source": [
    "class Net(nn.Module):\n",
    "    def __init__(self):\n",
    "        super(Net, self).__init__()\n",
    "        self.net = nn.Sequential(nn.Flatten(), nn.Linear(input_dimension, input_dimension), nn.ReLU(), nn.Linear(input_dimension, ouput_dimension), nn.ReLU())\n",
    "    def forward(self, x):\n",
    "        return self.net(x)"
   ]
  },
  {
   "cell_type": "code",
   "execution_count": 13,
   "metadata": {},
   "outputs": [
    {
     "output_type": "stream",
     "name": "stdout",
     "text": [
      "Train Epoch: 0 [0/60000 (0%)]\tLoss: 2.320492\n",
      "Train Epoch: 0 [6400/60000 (11%)]\tLoss: 2.105382\n",
      "Train Epoch: 0 [12800/60000 (21%)]\tLoss: 1.806932\n",
      "Train Epoch: 0 [19200/60000 (32%)]\tLoss: 1.651806\n",
      "Train Epoch: 0 [25600/60000 (43%)]\tLoss: 1.260128\n",
      "Train Epoch: 0 [32000/60000 (53%)]\tLoss: 1.376977\n",
      "Train Epoch: 0 [38400/60000 (64%)]\tLoss: 0.878462\n",
      "Train Epoch: 0 [44800/60000 (75%)]\tLoss: 0.894314\n",
      "Train Epoch: 0 [51200/60000 (85%)]\tLoss: 0.965802\n",
      "Train Epoch: 0 [57600/60000 (96%)]\tLoss: 0.776486\n",
      "\n",
      "Test set: Avg. loss: 0.0008, Accuracy: 7988/10000 (80%)\n",
      "\n",
      "Train Epoch: 1 [0/60000 (0%)]\tLoss: 0.777596\n",
      "Train Epoch: 1 [6400/60000 (11%)]\tLoss: 0.872577\n",
      "Train Epoch: 1 [12800/60000 (21%)]\tLoss: 0.717816\n",
      "Train Epoch: 1 [19200/60000 (32%)]\tLoss: 0.894503\n",
      "Train Epoch: 1 [25600/60000 (43%)]\tLoss: 0.708742\n",
      "Train Epoch: 1 [32000/60000 (53%)]\tLoss: 0.609661\n",
      "Train Epoch: 1 [38400/60000 (64%)]\tLoss: 0.710964\n",
      "Train Epoch: 1 [44800/60000 (75%)]\tLoss: 0.762873\n",
      "Train Epoch: 1 [51200/60000 (85%)]\tLoss: 0.583953\n",
      "Train Epoch: 1 [57600/60000 (96%)]\tLoss: 0.719886\n",
      "\n",
      "Test set: Avg. loss: 0.0006, Accuracy: 8198/10000 (82%)\n",
      "\n",
      "Train Epoch: 2 [0/60000 (0%)]\tLoss: 0.698387\n",
      "Train Epoch: 2 [6400/60000 (11%)]\tLoss: 0.660875\n",
      "Train Epoch: 2 [12800/60000 (21%)]\tLoss: 0.992913\n",
      "Train Epoch: 2 [19200/60000 (32%)]\tLoss: 0.545061\n",
      "Train Epoch: 2 [25600/60000 (43%)]\tLoss: 0.400213\n",
      "Train Epoch: 2 [32000/60000 (53%)]\tLoss: 0.570464\n",
      "Train Epoch: 2 [38400/60000 (64%)]\tLoss: 0.716831\n",
      "Train Epoch: 2 [44800/60000 (75%)]\tLoss: 0.697826\n",
      "Train Epoch: 2 [51200/60000 (85%)]\tLoss: 0.595142\n",
      "Train Epoch: 2 [57600/60000 (96%)]\tLoss: 0.820091\n",
      "\n",
      "Test set: Avg. loss: 0.0006, Accuracy: 8274/10000 (83%)\n",
      "\n",
      "Train Epoch: 3 [0/60000 (0%)]\tLoss: 0.375071\n",
      "Train Epoch: 3 [6400/60000 (11%)]\tLoss: 0.619985\n",
      "Train Epoch: 3 [12800/60000 (21%)]\tLoss: 0.590071\n",
      "Train Epoch: 3 [19200/60000 (32%)]\tLoss: 0.731414\n",
      "Train Epoch: 3 [25600/60000 (43%)]\tLoss: 0.570355\n",
      "Train Epoch: 3 [32000/60000 (53%)]\tLoss: 0.390001\n",
      "Train Epoch: 3 [38400/60000 (64%)]\tLoss: 0.636662\n",
      "Train Epoch: 3 [44800/60000 (75%)]\tLoss: 0.573837\n",
      "Train Epoch: 3 [51200/60000 (85%)]\tLoss: 0.529059\n",
      "Train Epoch: 3 [57600/60000 (96%)]\tLoss: 0.849323\n",
      "\n",
      "Test set: Avg. loss: 0.0005, Accuracy: 8314/10000 (83%)\n",
      "\n",
      "Train Epoch: 4 [0/60000 (0%)]\tLoss: 0.494054\n",
      "Train Epoch: 4 [6400/60000 (11%)]\tLoss: 0.708283\n",
      "Train Epoch: 4 [12800/60000 (21%)]\tLoss: 0.603198\n",
      "Train Epoch: 4 [19200/60000 (32%)]\tLoss: 0.546504\n",
      "Train Epoch: 4 [25600/60000 (43%)]\tLoss: 0.564206\n",
      "Train Epoch: 4 [32000/60000 (53%)]\tLoss: 0.462433\n",
      "Train Epoch: 4 [38400/60000 (64%)]\tLoss: 0.719240\n",
      "Train Epoch: 4 [44800/60000 (75%)]\tLoss: 0.403292\n",
      "Train Epoch: 4 [51200/60000 (85%)]\tLoss: 0.537778\n",
      "Train Epoch: 4 [57600/60000 (96%)]\tLoss: 0.515350\n",
      "\n",
      "Test set: Avg. loss: 0.0005, Accuracy: 8371/10000 (84%)\n",
      "\n"
     ]
    }
   ],
   "source": [
    "net = Net()\n",
    "net.cuda()\n",
    "loss = nn.CrossEntropyLoss()\n",
    "optimizer = torch.optim.SGD(net.parameters(), lr=learning_rate)\n",
    "train_losses = []\n",
    "train_counter = []\n",
    "test_losses = []\n",
    "test_counter = [i*len(train_loader.dataset) for i in range(n_epochs + 1)]\n",
    "for epoch in range(0, 5):\n",
    "  train(epoch)\n",
    "  test()"
   ]
  },
  {
   "cell_type": "code",
   "execution_count": null,
   "metadata": {},
   "outputs": [],
   "source": []
  }
 ]
}